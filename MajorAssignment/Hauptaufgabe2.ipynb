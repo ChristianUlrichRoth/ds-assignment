{
 "cells": [
  {
   "cell_type": "code",
   "execution_count": null,
   "metadata": {},
   "outputs": [],
   "source": []
  },
  {
   "cell_type": "markdown",
   "metadata": {},
   "source": [
    "### Christian Roth und Andreas Waßmus:\n",
    "\n",
    "# Major Assignment: Used Car Sales Analysis\n",
    "\n",
    "\n",
    "### Kurs: Programming for Data Science\n",
    "### Programmiersprache Python\n",
    "\n",
    "Angewendete Pakte:"
   ]
  },
  {
   "cell_type": "code",
   "execution_count": 5,
   "metadata": {},
   "outputs": [],
   "source": [
    "import pandas as pd\n",
    "import numpy as np"
   ]
  },
  {
   "cell_type": "markdown",
   "metadata": {},
   "source": [
    "### 1. Beschreibung Use Case\n",
    "\n",
    "Der Gebrachtwagenmarkt in Deutschland hat einen Umsatz von 84,7 Mrd. EUR. (Quelle: destatis, abgerufen am 23.08.2019, https://de.statista.com/themen/1377/gebrauchtwagenhandel/)\n",
    "\n",
    "![Bild%2023.08.19%20um%2017.33.jpg](attachment:Bild%2023.08.19%20um%2017.33.jpg)\n",
    "\n",
    "Eine Anlyse dieses großen Marktes ist sehr interessant, da es ein in Deutschland viel diskutiertes Thema ist.\n",
    "\n",
    "Wie ist der Markt geografisch aufgeteilt?\n",
    "Wie entwickeln sich die Preise?\n",
    "Wie unterscheiden sich die Preise?\n",
    "Welche Fahrzeuge erzielen höhere Verkaufspreise?\n",
    "- Diesel oder Benzin\n",
    "- PC\n",
    "- Fahrzeugtyp\n",
    "- Marke\n",
    "- Alter\n"
   ]
  },
  {
   "cell_type": "code",
   "execution_count": null,
   "metadata": {},
   "outputs": [],
   "source": []
  },
  {
   "cell_type": "markdown",
   "metadata": {},
   "source": [
    "### 2. Daten\n",
    "\n",
    "\n",
    "Wir haben für die Auswertung einen Datensatz aus Kaggle verwendet. Diese Daten wurden im Jahr 2016 mit Scrapy von Ebay-Kleinanzeigen gecrawled. Es handelt sich um 371.528 Datensätze.\n",
    "\n",
    "Datensatz: https://www.kaggle.com/orgesleka/used-cars-database\n",
    "\n",
    "\n",
    "\n",
    "\n",
    "#### 1. Beschreibung der Daten:\n",
    "\n",
    "##### Hauptdatensatz:\n",
    "\n",
    "Folgende 19 Datenpunkte wurden gesammelt:\n",
    "\n",
    "- dateCrawled: Datum, wann die Anzeige das erste mal gecrawlt wurde (alle Feldwerte stammen von diesem Datum)\n",
    "- name: \"Name\" des Autos (Anzeigenname)\n",
    "- seller: Gewerblicher oder privater Verkäufer\n",
    "- offerType: Bei allen Datenpunkten handelt es sich um Angebote (diese Spalte ist für die Analyse nicht relevant)\n",
    "- price : Der Angebotspreis der Anzeige (kein finaler Verkaufspreis) \n",
    "- abtest: Ausprägungen \"test\" und \"control\" (diese Spalte ist für die Analyse nicht relevant)\n",
    "- vehicleType: Fahrzeugform, Kategorien von verschiedenen Fahrzeugtypen\n",
    "- yearOfRegistration: Jahr der Erstzulassug\n",
    "- gearbox: Getriebeart\n",
    "- powerPS: Leistung in PS\n",
    "- model: Modellname des Herstellers\n",
    "- kilometer: Kilometerstand bei Verkauf\n",
    "- monthOfRegistration: Monat der Erstzulassung\n",
    "- fuelType: Kraftstoffart\n",
    "- brand: Automarke\n",
    "- notRepairedDamage: Nicht-reparierter Schaden am Auto (Variable lässt keine Aussage über die Höhe der unfallfreien Fahrzeuge zu\n",
    "- dateCreated: Erstelldatum der Anzeige\n",
    "- nrOfPictures: Fehlerhafter Spalte wird im Rahmen der Datenbereinigung aus Analyse entfertn\n",
    "- postalCode: Postleitzahl\n",
    "- lastSeenOnline: Wann wurde die Anzeige das letzte Mal vom crawler gesehen?\n",
    "\n",
    "\n",
    "\n",
    "\n"
   ]
  },
  {
   "cell_type": "code",
   "execution_count": 6,
   "metadata": {},
   "outputs": [
    {
     "ename": "NameError",
     "evalue": "name 'carData' is not defined",
     "output_type": "error",
     "traceback": [
      "\u001b[0;31m---------------------------------------------------------------------------\u001b[0m",
      "\u001b[0;31mNameError\u001b[0m                                 Traceback (most recent call last)",
      "\u001b[0;32m<ipython-input-6-4253d564a3af>\u001b[0m in \u001b[0;36m<module>\u001b[0;34m\u001b[0m\n\u001b[0;32m----> 1\u001b[0;31m \u001b[0mprint\u001b[0m\u001b[0;34m(\u001b[0m\u001b[0mcarData\u001b[0m\u001b[0;34m.\u001b[0m\u001b[0mshape\u001b[0m\u001b[0;34m)\u001b[0m\u001b[0;34m\u001b[0m\u001b[0;34m\u001b[0m\u001b[0m\n\u001b[0m\u001b[1;32m      2\u001b[0m \u001b[0mprint\u001b[0m\u001b[0;34m(\u001b[0m\u001b[0;34m'----------'\u001b[0m\u001b[0;34m)\u001b[0m\u001b[0;34m\u001b[0m\u001b[0;34m\u001b[0m\u001b[0m\n\u001b[1;32m      3\u001b[0m \u001b[0mprint\u001b[0m\u001b[0;34m(\u001b[0m\u001b[0mcarData\u001b[0m\u001b[0;34m.\u001b[0m\u001b[0mcolumns\u001b[0m\u001b[0;34m)\u001b[0m\u001b[0;34m\u001b[0m\u001b[0;34m\u001b[0m\u001b[0m\n",
      "\u001b[0;31mNameError\u001b[0m: name 'carData' is not defined"
     ]
    }
   ],
   "source": [
    "print(carData.shape)\n",
    "print('----------')\n",
    "print(carData.columns)"
   ]
  },
  {
   "cell_type": "markdown",
   "metadata": {},
   "source": [
    "3. #### 2. Einbindung zusätzlicher Daten\n",
    "\n",
    "Der Hauptdatensatz wurde dahingehend überprüft, ob es Sinn macht, an bestimmten Stellen Daten anzureichern. Hierzu kommen zwei Spalten in Betracht:\n",
    "- brand\n",
    "- postalCode\n",
    "\n",
    "Zu postalcode habe ich noch gefunden: https://www.suche-postleitzahl.org/downloads\n",
    "hier gibt es noch die Möglichkeit die Einwohnerdichte hinzuzufügen. Dann könnte man die Preise nicht nur geographisch sondern auch nach ballungszentren analysieren.\n",
    "\n",
    "\n",
    "Zu Brands habe ich kein pdf gefunden\n",
    "hier ist ein Link mit Markenzugehörigkeit. Daraus kann man vielleicht eine csv machen.\n",
    "http://thomas-messmer.com/index.php/16-free-knowledge/allerlei/weitere-informationen/44-autokonzerne-und-dessen-automarken\n",
    "\n",
    "hier ppt einfügen analog "
   ]
  },
  {
   "cell_type": "code",
   "execution_count": 7,
   "metadata": {},
   "outputs": [
    {
     "name": "stderr",
     "output_type": "stream",
     "text": [
      "/Users/andreaswassmus/anaconda3/envs/condatascience-python3/lib/python3.7/site-packages/ipykernel_launcher.py:4: DeprecationWarning: Using Nominatim with the default \"geopy/1.20.0\" `user_agent` is strongly discouraged, as it violates Nominatim's ToS https://operations.osmfoundation.org/policies/nominatim/ and may possibly cause 403 and 429 HTTP errors. Please specify a custom `user_agent` with `Nominatim(user_agent=\"my-application\")` or by overriding the default `user_agent`: `geopy.geocoders.options.default_user_agent = \"my-application\"`. In geopy 2.0 this will become an exception.\n",
      "  after removing the cwd from sys.path.\n"
     ]
    }
   ],
   "source": [
    "import pandas as pd\n",
    "import numpy as np\n",
    "from geopy.geocoders import Nominatim\n",
    "geolocator = Nominatim()"
   ]
  },
  {
   "cell_type": "code",
   "execution_count": 8,
   "metadata": {},
   "outputs": [
    {
     "data": {
      "text/html": [
       "<div>\n",
       "<style scoped>\n",
       "    .dataframe tbody tr th:only-of-type {\n",
       "        vertical-align: middle;\n",
       "    }\n",
       "\n",
       "    .dataframe tbody tr th {\n",
       "        vertical-align: top;\n",
       "    }\n",
       "\n",
       "    .dataframe thead th {\n",
       "        text-align: right;\n",
       "    }\n",
       "</style>\n",
       "<table border=\"1\" class=\"dataframe\">\n",
       "  <thead>\n",
       "    <tr style=\"text-align: right;\">\n",
       "      <th></th>\n",
       "      <th>name</th>\n",
       "      <th>seller</th>\n",
       "      <th>offerType</th>\n",
       "      <th>price</th>\n",
       "      <th>abtest</th>\n",
       "      <th>vehicleType</th>\n",
       "      <th>yearOfRegistration</th>\n",
       "      <th>gearbox</th>\n",
       "      <th>powerPS</th>\n",
       "      <th>model</th>\n",
       "      <th>kilometer</th>\n",
       "      <th>monthOfRegistration</th>\n",
       "      <th>fuelType</th>\n",
       "      <th>brand</th>\n",
       "      <th>notRepairedDamage</th>\n",
       "      <th>dateCreated</th>\n",
       "      <th>nrOfPictures</th>\n",
       "      <th>postalCode</th>\n",
       "      <th>lastSeen</th>\n",
       "    </tr>\n",
       "    <tr>\n",
       "      <th>dateCrawled</th>\n",
       "      <th></th>\n",
       "      <th></th>\n",
       "      <th></th>\n",
       "      <th></th>\n",
       "      <th></th>\n",
       "      <th></th>\n",
       "      <th></th>\n",
       "      <th></th>\n",
       "      <th></th>\n",
       "      <th></th>\n",
       "      <th></th>\n",
       "      <th></th>\n",
       "      <th></th>\n",
       "      <th></th>\n",
       "      <th></th>\n",
       "      <th></th>\n",
       "      <th></th>\n",
       "      <th></th>\n",
       "      <th></th>\n",
       "    </tr>\n",
       "  </thead>\n",
       "  <tbody>\n",
       "    <tr>\n",
       "      <th>2016-03-24 11:52:17</th>\n",
       "      <td>Golf_3_1.6</td>\n",
       "      <td>privat</td>\n",
       "      <td>Angebot</td>\n",
       "      <td>480</td>\n",
       "      <td>test</td>\n",
       "      <td>NaN</td>\n",
       "      <td>1993</td>\n",
       "      <td>manuell</td>\n",
       "      <td>0</td>\n",
       "      <td>golf</td>\n",
       "      <td>150000</td>\n",
       "      <td>0</td>\n",
       "      <td>benzin</td>\n",
       "      <td>volkswagen</td>\n",
       "      <td>NaN</td>\n",
       "      <td>2016-03-24 00:00:00</td>\n",
       "      <td>0</td>\n",
       "      <td>70435</td>\n",
       "      <td>2016-04-07 03:16:57</td>\n",
       "    </tr>\n",
       "    <tr>\n",
       "      <th>2016-03-24 10:58:45</th>\n",
       "      <td>A5_Sportback_2.7_Tdi</td>\n",
       "      <td>privat</td>\n",
       "      <td>Angebot</td>\n",
       "      <td>18300</td>\n",
       "      <td>test</td>\n",
       "      <td>coupe</td>\n",
       "      <td>2011</td>\n",
       "      <td>manuell</td>\n",
       "      <td>190</td>\n",
       "      <td>NaN</td>\n",
       "      <td>125000</td>\n",
       "      <td>5</td>\n",
       "      <td>diesel</td>\n",
       "      <td>audi</td>\n",
       "      <td>ja</td>\n",
       "      <td>2016-03-24 00:00:00</td>\n",
       "      <td>0</td>\n",
       "      <td>66954</td>\n",
       "      <td>2016-04-07 01:46:50</td>\n",
       "    </tr>\n",
       "    <tr>\n",
       "      <th>2016-03-14 12:52:21</th>\n",
       "      <td>Jeep_Grand_Cherokee_\"Overland\"</td>\n",
       "      <td>privat</td>\n",
       "      <td>Angebot</td>\n",
       "      <td>9800</td>\n",
       "      <td>test</td>\n",
       "      <td>suv</td>\n",
       "      <td>2004</td>\n",
       "      <td>automatik</td>\n",
       "      <td>163</td>\n",
       "      <td>grand</td>\n",
       "      <td>125000</td>\n",
       "      <td>8</td>\n",
       "      <td>diesel</td>\n",
       "      <td>jeep</td>\n",
       "      <td>NaN</td>\n",
       "      <td>2016-03-14 00:00:00</td>\n",
       "      <td>0</td>\n",
       "      <td>90480</td>\n",
       "      <td>2016-04-05 12:47:46</td>\n",
       "    </tr>\n",
       "    <tr>\n",
       "      <th>2016-03-17 16:54:04</th>\n",
       "      <td>GOLF_4_1_4__3TÜRER</td>\n",
       "      <td>privat</td>\n",
       "      <td>Angebot</td>\n",
       "      <td>1500</td>\n",
       "      <td>test</td>\n",
       "      <td>kleinwagen</td>\n",
       "      <td>2001</td>\n",
       "      <td>manuell</td>\n",
       "      <td>75</td>\n",
       "      <td>golf</td>\n",
       "      <td>150000</td>\n",
       "      <td>6</td>\n",
       "      <td>benzin</td>\n",
       "      <td>volkswagen</td>\n",
       "      <td>nein</td>\n",
       "      <td>2016-03-17 00:00:00</td>\n",
       "      <td>0</td>\n",
       "      <td>91074</td>\n",
       "      <td>2016-03-17 17:40:17</td>\n",
       "    </tr>\n",
       "    <tr>\n",
       "      <th>2016-03-31 17:25:20</th>\n",
       "      <td>Skoda_Fabia_1.4_TDI_PD_Classic</td>\n",
       "      <td>privat</td>\n",
       "      <td>Angebot</td>\n",
       "      <td>3600</td>\n",
       "      <td>test</td>\n",
       "      <td>kleinwagen</td>\n",
       "      <td>2008</td>\n",
       "      <td>manuell</td>\n",
       "      <td>69</td>\n",
       "      <td>fabia</td>\n",
       "      <td>90000</td>\n",
       "      <td>7</td>\n",
       "      <td>diesel</td>\n",
       "      <td>skoda</td>\n",
       "      <td>nein</td>\n",
       "      <td>2016-03-31 00:00:00</td>\n",
       "      <td>0</td>\n",
       "      <td>60437</td>\n",
       "      <td>2016-04-06 10:17:21</td>\n",
       "    </tr>\n",
       "  </tbody>\n",
       "</table>\n",
       "</div>"
      ],
      "text/plain": [
       "                                               name  seller offerType  price  \\\n",
       "dateCrawled                                                                    \n",
       "2016-03-24 11:52:17                      Golf_3_1.6  privat   Angebot    480   \n",
       "2016-03-24 10:58:45            A5_Sportback_2.7_Tdi  privat   Angebot  18300   \n",
       "2016-03-14 12:52:21  Jeep_Grand_Cherokee_\"Overland\"  privat   Angebot   9800   \n",
       "2016-03-17 16:54:04              GOLF_4_1_4__3TÜRER  privat   Angebot   1500   \n",
       "2016-03-31 17:25:20  Skoda_Fabia_1.4_TDI_PD_Classic  privat   Angebot   3600   \n",
       "\n",
       "                    abtest vehicleType  yearOfRegistration    gearbox  \\\n",
       "dateCrawled                                                             \n",
       "2016-03-24 11:52:17   test         NaN                1993    manuell   \n",
       "2016-03-24 10:58:45   test       coupe                2011    manuell   \n",
       "2016-03-14 12:52:21   test         suv                2004  automatik   \n",
       "2016-03-17 16:54:04   test  kleinwagen                2001    manuell   \n",
       "2016-03-31 17:25:20   test  kleinwagen                2008    manuell   \n",
       "\n",
       "                     powerPS  model  kilometer  monthOfRegistration fuelType  \\\n",
       "dateCrawled                                                                    \n",
       "2016-03-24 11:52:17        0   golf     150000                    0   benzin   \n",
       "2016-03-24 10:58:45      190    NaN     125000                    5   diesel   \n",
       "2016-03-14 12:52:21      163  grand     125000                    8   diesel   \n",
       "2016-03-17 16:54:04       75   golf     150000                    6   benzin   \n",
       "2016-03-31 17:25:20       69  fabia      90000                    7   diesel   \n",
       "\n",
       "                          brand notRepairedDamage          dateCreated  \\\n",
       "dateCrawled                                                              \n",
       "2016-03-24 11:52:17  volkswagen               NaN  2016-03-24 00:00:00   \n",
       "2016-03-24 10:58:45        audi                ja  2016-03-24 00:00:00   \n",
       "2016-03-14 12:52:21        jeep               NaN  2016-03-14 00:00:00   \n",
       "2016-03-17 16:54:04  volkswagen              nein  2016-03-17 00:00:00   \n",
       "2016-03-31 17:25:20       skoda              nein  2016-03-31 00:00:00   \n",
       "\n",
       "                     nrOfPictures  postalCode             lastSeen  \n",
       "dateCrawled                                                         \n",
       "2016-03-24 11:52:17             0       70435  2016-04-07 03:16:57  \n",
       "2016-03-24 10:58:45             0       66954  2016-04-07 01:46:50  \n",
       "2016-03-14 12:52:21             0       90480  2016-04-05 12:47:46  \n",
       "2016-03-17 16:54:04             0       91074  2016-03-17 17:40:17  \n",
       "2016-03-31 17:25:20             0       60437  2016-04-06 10:17:21  "
      ]
     },
     "execution_count": 8,
     "metadata": {},
     "output_type": "execute_result"
    }
   ],
   "source": [
    "#Initialize relative path of csv-file\n",
    "relpathCar=\"../MajorAssignment/used-cars-database/autos.csv\"\n",
    "relpathPLZ=\"../MajorAssignment/PLZ.csv\"\n",
    "\n",
    "#import csv-file into pandas df\n",
    "carData=pd.read_csv(relpathCar,sep=\",\",encoding=\"latin-1\", index_col=0)\n",
    "\n",
    "#show head of carData df\n",
    "carData.head(5)"
   ]
  },
  {
   "cell_type": "code",
   "execution_count": 9,
   "metadata": {},
   "outputs": [
    {
     "data": {
      "text/plain": [
       "(371528, 19)"
      ]
     },
     "execution_count": 9,
     "metadata": {},
     "output_type": "execute_result"
    }
   ],
   "source": [
    "carData.shape"
   ]
  },
  {
   "cell_type": "code",
   "execution_count": 10,
   "metadata": {},
   "outputs": [
    {
     "data": {
      "text/plain": [
       "Index(['name', 'seller', 'offerType', 'price', 'abtest', 'vehicleType',\n",
       "       'yearOfRegistration', 'gearbox', 'powerPS', 'model', 'kilometer',\n",
       "       'monthOfRegistration', 'fuelType', 'brand', 'notRepairedDamage',\n",
       "       'dateCreated', 'nrOfPictures', 'postalCode', 'lastSeen'],\n",
       "      dtype='object')"
      ]
     },
     "execution_count": 10,
     "metadata": {},
     "output_type": "execute_result"
    }
   ],
   "source": [
    "carData.columns"
   ]
  },
  {
   "cell_type": "code",
   "execution_count": 12,
   "metadata": {},
   "outputs": [
    {
     "data": {
      "text/plain": [
       "volkswagen        79640\n",
       "bmw               40274\n",
       "opel              40136\n",
       "mercedes_benz     35309\n",
       "audi              32873\n",
       "ford              25573\n",
       "renault           17969\n",
       "peugeot           11027\n",
       "fiat               9676\n",
       "seat               7022\n",
       "mazda              5695\n",
       "skoda              5641\n",
       "smart              5249\n",
       "citroen            5182\n",
       "nissan             5037\n",
       "toyota             4694\n",
       "sonstige_autos     3982\n",
       "hyundai            3646\n",
       "mini               3394\n",
       "volvo              3327\n",
       "mitsubishi         3061\n",
       "honda              2836\n",
       "kia                2555\n",
       "alfa_romeo         2345\n",
       "suzuki             2328\n",
       "porsche            2215\n",
       "chevrolet          1845\n",
       "chrysler           1452\n",
       "dacia               900\n",
       "jeep                807\n",
       "daihatsu            806\n",
       "subaru              779\n",
       "land_rover          770\n",
       "jaguar              621\n",
       "trabant             591\n",
       "daewoo              542\n",
       "saab                530\n",
       "rover               490\n",
       "lancia              484\n",
       "lada                225\n",
       "Name: brand, dtype: int64"
      ]
     },
     "execution_count": 12,
     "metadata": {},
     "output_type": "execute_result"
    }
   ],
   "source": [
    "#Ausprägungen einer Spalte - wie kann ich mir nur diese anzeigen lassen?\n",
    "\n",
    "carData[\"brand\"].value_counts()"
   ]
  },
  {
   "cell_type": "markdown",
   "metadata": {},
   "source": [
    "Man könnte basierend auf den Verkaufspreisen den ursprünglichen Neuwagenpreis errechnen.\n",
    "http://orgesleka.blogspot.com/2016/11/tabelle-zum-wertverlust-pro-jahr-bei.html\n",
    "\n",
    "Das ist aber für das Assignment nicht zu aufwendig. Es sei denn wir binden nur die allgemeine Formel ein."
   ]
  },
  {
   "cell_type": "code",
   "execution_count": null,
   "metadata": {},
   "outputs": [],
   "source": []
  }
 ],
 "metadata": {
  "kernelspec": {
   "display_name": "Python 3",
   "language": "python",
   "name": "python3"
  },
  "language_info": {
   "codemirror_mode": {
    "name": "ipython",
    "version": 3
   },
   "file_extension": ".py",
   "mimetype": "text/x-python",
   "name": "python",
   "nbconvert_exporter": "python",
   "pygments_lexer": "ipython3",
   "version": "3.7.3"
  }
 },
 "nbformat": 4,
 "nbformat_minor": 2
}
