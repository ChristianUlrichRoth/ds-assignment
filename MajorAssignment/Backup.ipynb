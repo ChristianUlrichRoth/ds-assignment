{
 "cells": [
  {
   "cell_type": "markdown",
   "metadata": {},
   "source": [
    "### Anpassungen bzw. Code Fragmente"
   ]
  },
  {
   "cell_type": "code",
   "execution_count": null,
   "metadata": {},
   "outputs": [],
   "source": [
    "df_mercedesMean = np.round(df_mercedes.groupby(\n",
    "    ['model', 'yearOfRegistration'])[\"price\"].mean())\n",
    "\n",
    "mercedesStatsPivot = pd.concat([df_mercedesMean], axis=1)\n",
    "mercedesStatsPivot.columns = ['Mean']\n",
    "\n",
    "mercedesStatsPivot.head()"
   ]
  },
  {
   "cell_type": "code",
   "execution_count": null,
   "metadata": {},
   "outputs": [],
   "source": [
    "# Anschließend holen resetten wir die Struktur des soeben erstellten Index\n",
    "mercedesStatsPivot = mercedesStatsPivot.reset_index()\n",
    "# und legen die nachfolgende Struktur fest\n",
    "mercedesStatsPivot = mercedesStatsPivot.pivot(\n",
    "    index='yearOfRegistration', columns='model', values='Mean')\n",
    "mercedesStatsPivot.head(30)"
   ]
  },
  {
   "cell_type": "code",
   "execution_count": null,
   "metadata": {},
   "outputs": [],
   "source": [
    "import matplotlib.pyplot as plt\n",
    "mercedesStatsPivot.plot(\n",
    "    figsize=(16, 9), title='Preisentwicklung Gebrauchtwagen Mercedes')\n",
    "\n",
    "# Show y-axis in 'plain' format instead of 'scientific'\n",
    "plt.ticklabel_format(style='plain', axis='y')"
   ]
  },
  {
   "cell_type": "markdown",
   "metadata": {},
   "source": [
    "### Multiindexing"
   ]
  },
  {
   "cell_type": "code",
   "execution_count": null,
   "metadata": {},
   "outputs": [],
   "source": [
    "# df_normalCars.reset_index()\n",
    "# Hilfreiche Links:\n",
    "# https://www.datacamp.com/community/tutorials/pandas-multi-index\n",
    "# https://www.somebits.com/~nelson/pandas-multiindex-slice-demo.html\n",
    "# https://janakiev.com/blog/pandas-multiindex-pivot/ --> besonders zum Visualisieren geeignet.\n",
    "multiIdx_normalCars = df_normalCars.set_index(\n",
    "    ['company', 'brand', 'model', 'yearOfRegistration', 'name'])\n",
    "multiIdx_normalCars.sort_index(inplace=True)\n",
    "\n",
    "multiIdx_normalCars"
   ]
  },
  {
   "cell_type": "code",
   "execution_count": null,
   "metadata": {},
   "outputs": [],
   "source": [
    "#Diese Suche zeigt uns alle Golfs, mit einem Registrierungsdatum aus 2014\n",
    "#Könnten uns hier überlegen ob wir das Jahr der Anzeigenerstellung in einer extra Spalte brauchen,\n",
    "#um dahingehend Kennzahlen zu brauchen (Differenz yearOfRegistration und VerkaufsanzeigenJahr)\n",
    "multiIdx_normalCars.loc[('VW-Konzern', 'volkswagen', 'golf', 2015),:]"
   ]
  },
  {
   "cell_type": "code",
   "execution_count": null,
   "metadata": {},
   "outputs": [],
   "source": []
  },
  {
   "cell_type": "code",
   "execution_count": null,
   "metadata": {},
   "outputs": [],
   "source": []
  },
  {
   "cell_type": "code",
   "execution_count": null,
   "metadata": {},
   "outputs": [],
   "source": []
  },
  {
   "cell_type": "code",
   "execution_count": null,
   "metadata": {},
   "outputs": [],
   "source": []
  },
  {
   "cell_type": "code",
   "execution_count": null,
   "metadata": {},
   "outputs": [],
   "source": []
  },
  {
   "cell_type": "code",
   "execution_count": null,
   "metadata": {},
   "outputs": [],
   "source": []
  },
  {
   "cell_type": "code",
   "execution_count": null,
   "metadata": {},
   "outputs": [],
   "source": []
  }
 ],
 "metadata": {
  "kernelspec": {
   "display_name": "Python 3",
   "language": "python",
   "name": "python3"
  },
  "language_info": {
   "codemirror_mode": {
    "name": "ipython",
    "version": 3
   },
   "file_extension": ".py",
   "mimetype": "text/x-python",
   "name": "python",
   "nbconvert_exporter": "python",
   "pygments_lexer": "ipython3",
   "version": "3.7.3"
  },
  "toc": {
   "base_numbering": 1,
   "nav_menu": {},
   "number_sections": true,
   "sideBar": true,
   "skip_h1_title": false,
   "title_cell": "Table of Contents",
   "title_sidebar": "Contents",
   "toc_cell": false,
   "toc_position": {},
   "toc_section_display": true,
   "toc_window_display": false
  },
  "varInspector": {
   "cols": {
    "lenName": 16,
    "lenType": 16,
    "lenVar": 40
   },
   "kernels_config": {
    "python": {
     "delete_cmd_postfix": "",
     "delete_cmd_prefix": "del ",
     "library": "var_list.py",
     "varRefreshCmd": "print(var_dic_list())"
    },
    "r": {
     "delete_cmd_postfix": ") ",
     "delete_cmd_prefix": "rm(",
     "library": "var_list.r",
     "varRefreshCmd": "cat(var_dic_list()) "
    }
   },
   "types_to_exclude": [
    "module",
    "function",
    "builtin_function_or_method",
    "instance",
    "_Feature"
   ],
   "window_display": false
  }
 },
 "nbformat": 4,
 "nbformat_minor": 2
}
